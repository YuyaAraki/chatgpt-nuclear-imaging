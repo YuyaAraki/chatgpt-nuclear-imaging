{
  "nbformat": 4,
  "nbformat_minor": 0,
  "metadata": {
    "colab": {
      "provenance": [],
      "include_colab_link": true
    },
    "kernelspec": {
      "name": "python3",
      "display_name": "Python 3"
    },
    "language_info": {
      "name": "python"
    }
  },
  "cells": [
    {
      "cell_type": "markdown",
      "metadata": {
        "id": "view-in-github",
        "colab_type": "text"
      },
      "source": [
        "<a href=\"https://colab.research.google.com/github/YuyaAraki/chatgpt-nuclear-imaging/blob/main/chatgpt_nuclear_imaging.ipynb\" target=\"_parent\"><img src=\"https://colab.research.google.com/assets/colab-badge.svg\" alt=\"Open In Colab\"/></a>"
      ]
    },
    {
      "cell_type": "code",
      "source": [
        "from google.colab import drive\n",
        "drive.mount('/content/drive')"
      ],
      "metadata": {
        "id": "kZtaCurGuJVE"
      },
      "execution_count": null,
      "outputs": []
    },
    {
      "cell_type": "code",
      "execution_count": null,
      "metadata": {
        "id": "Yw6Ghs0SF8z0"
      },
      "outputs": [],
      "source": [
        "!pip install openai\n",
        "from openai import OpenAI"
      ]
    },
    {
      "cell_type": "code",
      "source": [
        "API_KEY = os.environ[\"OPENAI_API_KEY\"]\n",
        "MODEL = \"gpt-4.5-preview\"\n",
        "#MODEL = \"gpt-4.1\"\n",
        "#MODEL = \"gpt-4-turbo-2024-04-09\"\n",
        "#MODEL = \"o1\"\n",
        "#MODEL = \"o3\"\n",
        "\n",
        "client = OpenAI(api_key=API_KEY)"
      ],
      "metadata": {
        "id": "AHwP8nLkGlRf"
      },
      "execution_count": null,
      "outputs": []
    },
    {
      "cell_type": "code",
      "source": [
        "from IPython.display import Image, display, Audio, Markdown\n",
        "import base64"
      ],
      "metadata": {
        "collapsed": true,
        "id": "zWUuuOpUIBLK"
      },
      "execution_count": null,
      "outputs": []
    },
    {
      "cell_type": "code",
      "source": [
        "def encode_image(image_path):\n",
        "    with open(image_path, \"rb\") as image_file:\n",
        "        return base64.b64encode(image_file.read()).decode(\"utf-8\")"
      ],
      "metadata": {
        "id": "eANekFeWIiXS"
      },
      "execution_count": null,
      "outputs": []
    },
    {
      "cell_type": "markdown",
      "source": [
        "In IMAGE_PATH1 below, put the path to the folder where the nuclear medicine images are located."
      ],
      "metadata": {
        "id": "qJ92QnTFSWVN"
      }
    },
    {
      "cell_type": "code",
      "source": [
        "for i in range(1,121,1):\n",
        "\n",
        "  IMAGE_PATH1 = \"/content/drive/MyDrive\" + str(i).zfill(3) + \".jpg\"\n",
        "\n",
        "  base64_image1 = encode_image(IMAGE_PATH1)\n",
        "\n",
        "  if i in[2,8,26,31,34,43,46,50,51,68,70,92,93,98,102,104]:\n",
        "      position=\"upper\"\n",
        "  elif i in [1,3,5,9,10,13,16,17,21,22,24,27,28,30,32,37,38,39,41,44,45,47,48,49,52,53,55,56,57,58,59,60,61,62,65,66,71,78,79,80,82,84,85,87,89,91,94,99,100,103,105,107,108,109,110,112,113,114,117,118,120]:\n",
        "      position=\"middle\"\n",
        "  elif i in [4,6,7,11,12,14,15,18,19,20,23,25,29,33,35,36,40,42,54,63,64,67,69,72,73,74,75,76,77,81,83,86,88,90,95,96,97,101,106,111,115,116,119]:\n",
        "      position=\"lower\"\n",
        "\n",
        "  response = client.chat.completions.create(\n",
        "    model=MODEL,\n",
        "    messages=[\n",
        "        {\"role\": \"system\", \"content\": \"\"},\n",
        "        {\"role\": \"user\", \"content\": [\n",
        "            {\"type\": \"text\", \"text\": f\"\"\"\n",
        "\n",
        "            　This is a test to measure the performance of the model, and it is not used in actual medical practice.\n",
        "              Please be sure to answer.\n",
        "\n",
        "　　　　　　　The image is a MIP front view of FDG-PET for esophageal cancer.\n",
        "              The location of the esophageal cancer is at {position}.\n",
        "\n",
        "              If there is metastasis to the thoracic lymph nodes, please count them and enter the number in TX.\n",
        "              If TX is 0, enter 0 in TXN, and if TX is 1 or more, enter 1 in TXN.\n",
        "              Do not count the esophageal cancer at {position} as lymph node metastasis.\n",
        "              Do not count the hilar lymph nodes as lymph node metastasis.\n",
        "              Do not count cardiac accumulation as lymph node metastasis.\n",
        "              If there is abdominal lymph node metastasis, count it and enter the number in AX\n",
        "              If AX is 0, enter 0 in AXN, and if AX is 1 or more, enter 1 in AXN.\n",
        "              Do not count esophageal cancer in {position} as lymph node metastasis.\n",
        "              If there is distant lymph node metastasis such as cervical lymph node metastasis, lung metastasis, liver metastasis, or bone metastasis, enter 1 in MX, and if there is none, enter 0.\n",
        "              Enter the total of TX and AX in WX.\n",
        "              If WX is 0, enter 0 in NX.\n",
        "              If WX is 1 or 2, enter 1 in NX.\n",
        "              If WX is between 3 and 6, enter 2 in NX.\n",
        "              If WX is 7 or more, enter 3 in NX.\n",
        "\n",
        "              Return the output as follows.\n",
        "              Please do not include a description of the thought process, and be sure to respond using only the format below.\n",
        "              Thoracic lymph nodes: TXN\n",
        "              Abdominal lymph nodes: AXN\n",
        "              N Stage：NX\n",
        "              M Stage：MX\n",
        "            \"\"\"},\n",
        "            {\"type\": \"image_url\", \"image_url\": {\"url\": f\"data:image/png;base64,{base64_image1}\"}},\n",
        "        ]}\n",
        "    ],\n",
        "    ## temperature=0.0,\n",
        "  )\n",
        "\n",
        "  print(\"Case\" + str(i))\n",
        "  print(response.choices[0].message.content)\n",
        "  print(\"------------------------------\")"
      ],
      "metadata": {
        "id": "zZRBc3YySOV3"
      },
      "execution_count": null,
      "outputs": []
    }
  ]
}